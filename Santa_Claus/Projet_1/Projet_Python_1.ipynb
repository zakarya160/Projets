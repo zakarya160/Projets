{
 "cells": [
  {
   "cell_type": "markdown",
   "metadata": {
    "deletable": false,
    "editable": false
   },
   "source": [
    "# <center> Santa Claus needs you!</center>\n",
    "<center> SAE 1.01 / 2023 - 24 </center>\n",
    "\n"
   ]
  },
  {
   "cell_type": "markdown",
   "metadata": {
    "deletable": false,
    "editable": false
   },
   "source": [
    "**Attendus**\n",
    "\n",
    "Les attendus de cette SAE sont que vous appreniez à \n",
    "- respecter un cahier des charges ;\n",
    "- écrire un code de qualité : efficace, lisible, documenté et testé sauf quand il s'agit d'affichages, de saisies ou de tirages aléatoires ;\n",
    " - travailler en groupe sur un projet : cette SAE est à faire en **binôme**. Vous devez néanmoins comprendre et connaître la totalité de ce qui est produit par le binôme.\n",
    "\n",
    "\n",
    "**Calendrier**\n",
    "- Le projet est à rendre au plus tard le vendredi **10 novembre** 2023. Les modalités de rendu vous seront précisées par votre enseignant.\n",
    "- Un contrôle de 2h en lien avec le contenu de cette SAE aura lieu le vendredi **10 novembre** 2023.\n",
    "\n",
    "**Evaluation**\n",
    "- Le projet comptera pour 40% de la note de SAE 1.01. <BR>\n",
    "Il sera particulièrement tenu compte de la qualité du code, des **commentaires** et **docstrings**, des fonctions de **tests unitaires** pour les fonctions renvoyant des résultats. <BR><BR>\n",
    "    \n",
    "- Le contrôle compte pour 60% de la note finale."
   ]
  },
  {
   "cell_type": "markdown",
   "metadata": {
    "deletable": false,
    "editable": false
   },
   "source": [
    "## <center> Sujet </center>\n",
    "\n",
    "Le Père Noël se fait vieux, il a besoin d'aider pour organiser sa distribution de cadeaux. Il vous prend à l'essai...\n",
    "\n",
    "L'objectif est de chercher une tournée des villes minimisant la distance parcourue par les rennes du Père Noël."
   ]
  },
  {
   "cell_type": "markdown",
   "metadata": {
    "deletable": false,
    "editable": false
   },
   "source": [
    "On décide de stocker les données sur les villes à visiter dans un tableau `villes` de chaînes de caractères et de flottants contenant successivement une ville (sous forme d'une chaîne de caractères), sa longitude et sa latitude (des flottants) en dégrés décimaux (DD) de sorte que `villes[3*i]` a pour longitude  `villes[3*i+1]` et pour latitude `villes[3*i+2]`.\n",
    "\n",
    "On suppose que chaque ville n'est présente qu'une seule fois dans le tableau.\n",
    "\n",
    "**Exemple** : "
   ]
  },
  {
   "cell_type": "code",
   "execution_count": 1,
   "metadata": {
    "deletable": false,
    "editable": false,
    "scrolled": true
   },
   "outputs": [],
   "source": [
    "villes = [\"Paris\",2.33,48.86, \"Lyon\",4.85,45.75, \n",
    "          \"Marseille\", 5.40,43.30, \"Lille\",3.06,50.63, \n",
    "          \"Strasbourg\",7.75,48.57, \"Rennes\",-1.66,48.11, \n",
    "          \"Clermont-Ferrand\",3.08,45.77, \"Bordeaux\", -0.57, 44.83]"
   ]
  },
  {
   "cell_type": "markdown",
   "metadata": {
    "deletable": false,
    "editable": false
   },
   "source": [
    "Ainsi\n",
    "- Paris a une longitude de 2,33 DD et une latitude de 48,86 DD.\n",
    "- Rennes a une longitude de -1,66 DD et une latitude de 48,11 DD."
   ]
  },
  {
   "cell_type": "markdown",
   "metadata": {
    "deletable": false,
    "editable": false
   },
   "source": [
    "#### Question préliminaire : Représentation des villes par un tableau\n",
    "\n",
    "- Ajouter dans le tableau précédent Toulouse dont la longitude est 1,43 DD et la latitude est 43,60 DD, ainsi que Grenoble dont la longitude est 5,72 DD et la latitude est 45,18 DD."
   ]
  },
  {
   "cell_type": "code",
   "execution_count": 2,
   "metadata": {
    "scrolled": true
   },
   "outputs": [],
   "source": [
    "toulouse = [\"Toulouse\", 1.43, 43.60]\n",
    "grenoble = [\"Grenoble\", 5.72, 45.18]\n",
    "\n",
    "villes += toulouse + grenoble   # On concatène les deux tableaux avec le tableau villes"
   ]
  },
  {
   "cell_type": "markdown",
   "metadata": {
    "deletable": false,
    "editable": false
   },
   "source": [
    "#### Question 1 : Nombre de villes à visiter\n",
    "\n",
    "- Étant donné un tableau `villes`, écrire une fonction `nb_villes(villes)` qui retourne le nombre de villes à visiter contenues dans le tableau `villes`. \n",
    "- Ecrire une fonction de tests unitaires permettant de vérifier cette fonction. "
   ]
  },
  {
   "cell_type": "code",
   "execution_count": 3,
   "metadata": {
    "scrolled": true
   },
   "outputs": [
    {
     "name": "stdout",
     "output_type": "stream",
     "text": [
      "Test de la fonction nb_villes : ok\n"
     ]
    }
   ],
   "source": [
    "def nb_villes(villes):\n",
    "    '''\n",
    "    Paramètre(s): un tableau villes qui représente chaque ville par 3 éléments (nom, longitude et latitude)\n",
    "    Cette fonction renvoie un entier correspondant au nombre de villes à visiter\n",
    "    '''\n",
    "    return len(villes) // 3  # Chaque ville est représentée par 3 éléments donc le nombre de villes \n",
    "                             # est le résultat de la divison entière du nombre d'éléments par 3\n",
    "\n",
    "def test_nb_villes():\n",
    "    assert nb_villes([]) == 0\n",
    "    assert nb_villes(villes) == 10\n",
    "    assert nb_villes([\"Grenoble\", 5.72, 45.18]) == 1\n",
    "    assert nb_villes([\"Rennes\", -1.66, 48.11, \"Clermont-Ferrand\", 3.08, 45.77, \"Bordeaux\", -0.57, 44.83]) == 3\n",
    "    print('Test de la fonction nb_villes : ok')\n",
    "\n",
    "test_nb_villes()"
   ]
  },
  {
   "cell_type": "markdown",
   "metadata": {
    "deletable": false,
    "editable": false
   },
   "source": [
    "#### Question 2 : Tableaux des noms de villes à visiter\n",
    "\n",
    "- Étant donné un tableau `villes`, écrire une fonction `noms_villes(villes)` qui retourne le tableau des noms des villes à visiter contenues dans le tableau `villes`. \n",
    "- Ecrire une fonction de tests unitaires permettant de vérifier cette fonction. "
   ]
  },
  {
   "cell_type": "code",
   "execution_count": 4,
   "metadata": {
    "scrolled": true
   },
   "outputs": [
    {
     "name": "stdout",
     "output_type": "stream",
     "text": [
      "Test de la fonction noms_villes : ok\n"
     ]
    }
   ],
   "source": [
    "def noms_villes(villes):\n",
    "    '''\n",
    "    Paramètres(s): un tableau villes qui représente chaque ville par 3 éléments (nom, longitude et latitude)\n",
    "    Cette fonction renvoie une liste contenant le nom des villes à visiter\n",
    "    '''\n",
    "    noms = []\n",
    "    for i in range(0, len(villes), 3): # On saute de 3 en 3 car chaque ville est représentée par 3 éléments dont le premier est son nom\n",
    "        noms.append(villes[i]) # On ajoute au tableau le nom de la ville\n",
    "    return noms\n",
    "\n",
    "def test_noms_villes():\n",
    "    assert noms_villes(villes) == [\"Paris\", \"Lyon\", \"Marseille\", \"Lille\", \"Strasbourg\", \"Rennes\", \"Clermont-Ferrand\", \"Bordeaux\", \"Toulouse\", \"Grenoble\"]\n",
    "    assert noms_villes([]) == []\n",
    "    assert noms_villes([\"Grenoble\", 5.72, 45.18]) == [\"Grenoble\"]\n",
    "    assert noms_villes([\"Rennes\", -1.66, 48.11, \"Clermont-Ferrand\", 3.08, 45.77, \"Bordeaux\", -0.57, 44.83]) == [\"Rennes\", \"Clermont-Ferrand\", \"Bordeaux\"]\n",
    "    print(\"Test de la fonction noms_villes : ok\")\n",
    "\n",
    "test_noms_villes()"
   ]
  },
  {
   "cell_type": "markdown",
   "metadata": {
    "deletable": false,
    "editable": false
   },
   "source": [
    "#### Question 3 : Distance entre deux villes repérées par leurs longitude et latitude\n",
    "\n",
    "Pour calculer la distance $d$ entre deux villes $V_1$ (de longitude $long1$ et de latitude $lat1$) et $V_2$ (de longitude $long2$ et de latitude $lat2$) à partir de leurs longitude et latitude, on peut utiliser la formule suivante :\n",
    "\n",
    "$d=R*arccos(sin(lat1)*sin(lat2)+cos(lat1)*cos(lat2)*cos(long2-long1))$\n",
    "\n",
    "où le rayon de la terre $R$ vaut 6370.7km et les latitudes et longitudes sont exprimées en radians (en non en degrés décimaux).\n",
    "Cela correspond à la méthode de calcul avec la loi des sinus décrite [ici](http://villemin.gerard.free.fr/aGeograp/Distance.htm) \n",
    "\n",
    "Par exemple, Paris et Marseille sont distantes de 661,86 km.\n",
    "\n",
    "- Ecrire une fonction `distance(long1,lat1,long2,lat2)` qui calcule et retourne la distance entre deux villes $V_1$ (de longitude `long1` et `lat1`) et $V_2$ (de `long2`et `lat2`).\n",
    "\n",
    "**NB** Les fonctions `sin`, `cos` et le nombre `pi` sont définis dans la bibliothèque `math`. La fonction `arcos` est définie dans la bibliothèque `numpy`.\n",
    "\n",
    "Pour **convertir des degrés en radians**, il faut multiplier par $\\pi/180$.\n",
    "\n",
    "\n",
    "- Ecrire une fonction de tests unitaire permettant de vérifier cette fonction."
   ]
  },
  {
   "cell_type": "code",
   "execution_count": 16,
   "metadata": {
    "scrolled": true
   },
   "outputs": [
    {
     "name": "stdout",
     "output_type": "stream",
     "text": [
      "Test de la fonction distance : ok\n"
     ]
    }
   ],
   "source": [
    "from math import*\n",
    "from numpy import*\n",
    "\n",
    "def distance(long1, lat1, long2, lat2):\n",
    "    '''\n",
    "    Paramètres(s): 4 nombres flottants correspondant à la longitude et la latitude de deux villes\n",
    "    Cette fonction calcule et renvoie la distance (float) qui sépare ces deux villes\n",
    "    '''\n",
    "    long1 *= (pi / 180)\n",
    "    lat1 *= (pi / 180)          # On convertit les degrés en radians\n",
    "    long2 *= (pi / 180)\n",
    "    lat2 *= (pi / 180)\n",
    "    \n",
    "    R = 6370.7  # Rayon de la Terre\n",
    "    \n",
    "    distance = R * acos(sin(lat1) * sin(lat2) + cos(lat1) * cos(lat2) * cos(long2 - long1)) # Formule de calcule d'une longueur entre deux villes\n",
    "    \n",
    "    return round(distance, 2) # On arrondi le résultat à 2 chiffres après la virgule\n",
    "\n",
    "def test_distance():\n",
    "    assert isclose(distance(2.33, 48.86, 5.40, 43.30), 661.86)\n",
    "    assert distance(3.06, 50.63, 3.06, 50.63) == 0\n",
    "    assert isclose(distance(-1.66, 48.11, -0.57, 44.83), 374.12)\n",
    "    assert distance(0, 0, 0, 0) == 0\n",
    "    print(\"Test de la fonction distance : ok\")\n",
    "\n",
    "test_distance()"
   ]
  },
  {
   "cell_type": "markdown",
   "metadata": {
    "deletable": false,
    "editable": false
   },
   "source": [
    "#### Question 4 : Coordonnées d'une ville dans le tableau `villes`\n",
    "\n",
    "a) Ecrire une fonction `indexCity(ville, villes)` qui retourne la position (l'indice) de la `ville` passée en paramètre dans le tableau `villes`. Elle retournera `-1` si la ville passée en paramètre n'est pas dans le tableau. Cette information pourra être utilisée dans la suite pour trouver la longitude et la latitude d'une ville donnée par son nom.\n",
    "\n",
    "Par exemple, \n",
    "- l'instruction `indexCity(\"Paris\", villes)` retournera `0`,\n",
    "- l'instruction `indexCity(\"Clermont-Ferrand\",villes)` retournera  `18`,\n",
    "- et l'instruction `indexCity(\"Villetaneuse\",villes)` retournera  `-1`.\n",
    "\n",
    "b) Ecrire une fonction de tests unitaire permettant de vérifier cette fonction."
   ]
  },
  {
   "cell_type": "code",
   "execution_count": 6,
   "metadata": {
    "scrolled": true
   },
   "outputs": [
    {
     "name": "stdout",
     "output_type": "stream",
     "text": [
      "Test de la fonction indexCity : ok\n"
     ]
    }
   ],
   "source": [
    "def indexCity(ville, villes):\n",
    "    '''\n",
    "    Paramètre(s): une chaine de caractère ville qui correspond au nom d'une ville et un tableau villes qui\n",
    "                  représente chaque ville par 3 éléments (nom, longitude et latitude)\n",
    "    Cette fonction renvoie un entier qui correspond à l'indice de la ville dans le tableau villes ou -1 si cette\n",
    "    ville n'existe pas dans le tableau villes\n",
    "    '''\n",
    "    for i in range(len(villes)): # Parcours des index de la liste villes\n",
    "        if ville == villes[i]: # On teste si la ville entrée en paramètre correspond à la ville située à l'index i du tableau villes\n",
    "            return i           # Si oui, on retourne son index\n",
    "            \n",
    "    return -1  # Sinon si elle n'existe pas dans le tableau villes, on retourne -1\n",
    "\n",
    "def test_indexCity():\n",
    "    assert indexCity(\"Paris\", villes) == 0\n",
    "    assert indexCity(\"Clermont-Ferrand\", villes) == 18\n",
    "    assert indexCity(\"Villetaneuse\", villes) == -1\n",
    "    assert indexCity(\"Lille\", villes) == 9\n",
    "    print(\"Test de la fonction indexCity : ok\")\n",
    "    \n",
    "test_indexCity()"
   ]
  },
  {
   "cell_type": "markdown",
   "metadata": {
    "deletable": false,
    "editable": false
   },
   "source": [
    "#### Question 5 : Distance entre deux villes données par leurs noms\n",
    "\n",
    "- Ecrire une fonction `distance_noms(nom1,nom2, villes)` qui calcule et retourne la distance entre deux villes $V_1$ et $V_2$ appelées `nom1` et `nom2` dans le tableau `villes`. La fonction retournera `-1` si une de ces villes n'est pas dans le tableau.\n",
    "- Ecrire une fonction de tests unitaires permettant de vérifier cette fonction."
   ]
  },
  {
   "cell_type": "code",
   "execution_count": 7,
   "metadata": {
    "scrolled": true
   },
   "outputs": [
    {
     "name": "stdout",
     "output_type": "stream",
     "text": [
      "Test de la fonction distance_noms : ok\n"
     ]
    }
   ],
   "source": [
    "def distance_noms(nom1, nom2, villes):\n",
    "    '''\n",
    "    Paramètres(s): deux chaines de caractère nom1 et nom2 (noms de villes) et un tableau villes qui\n",
    "                   représente chaque ville par 3 éléments (nom, longitude et latitude)\n",
    "    Cette fonction calcule et renvoie la distance (float) qui sépare ces deux villes ou -1 si l'une des deux villes\n",
    "    n'existe pas dans le tableau villes\n",
    "    '''\n",
    "    if (nom1 in villes) and (nom2 in villes): # On vérifie que nom1 et nom2 sont bien présents dans le tableau villes\n",
    "        return distance(villes[indexCity(nom1, villes) + 1], villes[indexCity(nom1, villes) + 2], villes[indexCity(nom2, villes) + 1], villes[indexCity(nom2, villes) + 2]) \n",
    "        # Si oui, on renvoie la distance qui sépare ces deux villes grâce à leur informations dans le tableau villes\n",
    "        \n",
    "    return -1 # Sinon si un des deux noms n'est pas dans le tableau villes, on retourne -1\n",
    "\n",
    "def test_distance_noms():\n",
    "    assert isclose(distance_noms(\"Paris\", \"Marseille\", villes), 661.86)\n",
    "    assert distance_noms(\"Villetaneuse\", \"Marseille\", villes) == -1\n",
    "    assert isclose(distance_noms(\"Strasbourg\", \"Rennes\", villes), 696.92)\n",
    "    assert isclose(distance_noms(\"Toulouse\", \"Grenoble\", villes), 383.4)\n",
    "    print(\"Test de la fonction distance_noms : ok\")\n",
    "\n",
    "test_distance_noms()"
   ]
  },
  {
   "cell_type": "markdown",
   "metadata": {
    "deletable": false,
    "editable": false
   },
   "source": [
    "#### Question 6 :  Lecture des villes d'une tournée à partir d'un fichier\n",
    "On suppose que les données sur les villes où doit se rendre le Père Noël réseau sont stockées dans un fichier CSV de la manière suivante :\n",
    "```\n",
    "ville1;longitude1;latitude1\n",
    "ville2;longitude2;latitude2\n",
    "ville3;longitude3;latitude3\n",
    "...\n",
    "```\n",
    "Autrement dit, chaque ligne du fichier contient le nom d'une ville, sa longitude et sa latitude en degrés décimaux, ces données étant séparées par des `';'`. Ces villes sont celles que le Père Noël doit desservir\n",
    "\n",
    "**NB** : Six fichiers CSV de ce type sont fournis dans le répertoire `files/`, il s'agit des fichiers `africa.csv`, `asia.csv`,`europe.csv`, `north-america`, `oceania.csv` and `south-america.csv`. \n",
    "Il est recommandé d'en fabriquer d'autres. \n",
    "\n",
    "- Ecrire une fonction `lecture_villes(path)` prenant en paramètre un chemin vers un tel fichier CSV et retournant un tableau contenant les informations sur les villes à visiter."
   ]
  },
  {
   "cell_type": "code",
   "execution_count": 9,
   "metadata": {
    "scrolled": true
   },
   "outputs": [],
   "source": [
    "def lecture_villes(path):\n",
    "    ''' \n",
    "    Paramètre(s): une chaine de caractère path qui correspond à un chemin vers un fichier CSV\n",
    "    Cette fonction renvoie un tableau contenant les informations sur les villes à visiter du fichier CSV\n",
    "    '''\n",
    "    fichier = open(path, \"r\")     # Ouverture du fichier CSV\n",
    "    villes = fichier.readlines()  # Lecture et stockage des informations du fichier CSV\n",
    "    fichier.close()               # Fermeture du fichier CSV\n",
    "\n",
    "    tab_villes = []\n",
    "\n",
    "    for v in villes: # On parcours le tableau villes qui provient du fichier CSV\n",
    "        v = v.split(\";\") # On sépare les éléments par le ';' puis on les stocks dans la variable v (qui sera donc une liste)\n",
    "        for i in range(len(v)): # On parcours le tableau v\n",
    "            if i == 0:                  # Si c'est le nom de la ville ;\n",
    "                tab_villes.append(v[i]) # On ajoute le nom de la ville au tableau tab_villes\n",
    "            else:                       # Sinon ;\n",
    "                tab_villes.append(float(v[i])) # On ajoute la latitude ou la longitude sous forme d'un flottant\n",
    "        \n",
    "    return tab_villes\n",
    "\n",
    "#print(lecture_villes('files/asia.csv'))"
   ]
  },
  {
   "cell_type": "markdown",
   "metadata": {
    "deletable": false,
    "editable": false
   },
   "source": [
    "#### Question 7 : Longueur d'une tournée\n",
    "\n",
    "On considère que le Père Noël peut partir de n'importe laquelle des villes qu'il doit visiter et qu'il doit revenir à son point de départ à la fin de la tournée. Lors de sa tournée, il doit visiter chacune des villes dont les informations sont contenues dans le tableau `villes` une fois et une seule. \n",
    "\n",
    "On représente une tournée possible sous la forme d'un tableau `tournee` contenant le nom des villes dans l'ordre où le Père Noël les visitera sans oublier de revenir à la ville dont il est parti. \n",
    "\n",
    "L'objectif est de calculer la longueur d'une tournée. \n",
    "\n",
    "- Ecrire une fonction `long_tour(villes, tournee)` qui prend en paramètres le tableau `villes` contenant les informations sur les villes à visiter et le tableau `tournee` indiquant l'ordre dans lequel les villes sont visitées. La fonction retourne la longueur de la tournée correspondante.\n",
    "\n",
    "- Ecrire une fonction de tests unitaires permettant de vérifier cette fonction."
   ]
  },
  {
   "cell_type": "code",
   "execution_count": 14,
   "metadata": {},
   "outputs": [
    {
     "name": "stdout",
     "output_type": "stream",
     "text": [
      "Test de la fonction long_tour : ok\n"
     ]
    }
   ],
   "source": [
    "def long_tour(villes, tournee):\n",
    "    '''\n",
    "    Paramètre(s): un tableau villes contenant les informations sur les villes à visiter et un tableau tournee\n",
    "                  indiquant l'ordre dans lequel les villes sont visitées\n",
    "    Cette fonction renvoie la longueur (float) de la tournee correspondante ou 0 si le tableau tournee est vide\n",
    "    '''\n",
    "    if tournee == []: # Si le tableau est vide ;\n",
    "        return 0      # On retourne 0\n",
    "        \n",
    "    longueur = 0\n",
    "    \n",
    "    for i in range(len(tournee) - 1): # On parcours le tableau tournee\n",
    "        longueur += distance_noms(tournee[i], tournee[i + 1], villes) # On ajoutela distance qui sépare deux villes consécutives dans la variable longueur\n",
    "        \n",
    "    longueur += distance_noms(tournee[-1], tournee[0], villes) # On rajoute à la variable longueur la distance qui sépare la dernière ville à la ville de départ\n",
    "    \n",
    "    return round(longueur, 2) # On arrondi le résultat à 2 chiffres après la virgule\n",
    "\n",
    "def test_long_tour():\n",
    "    assert isclose(long_tour(villes, noms_villes(villes)), 4433.84)\n",
    "    assert isclose(long_tour(villes, [\"Toulouse\", \"Grenoble\", \"Marseille\"]), 916.14)\n",
    "    assert long_tour(villes, [\"Toulouse\"]) == 0\n",
    "    assert long_tour(villes, []) == 0\n",
    "    print(\"Test de la fonction long_tour : ok\")\n",
    "\n",
    "test_long_tour()"
   ]
  },
  {
   "cell_type": "markdown",
   "metadata": {
    "deletable": false,
    "editable": false
   },
   "source": [
    "#### Question 8 : Recherche d'une plus courte tournée \n",
    "\n",
    "Pour améliorer la longueur de la tournée, on peut essayer de changer l'ordre des villes aléatoirement. Pour une tournée donnée par un tableau `tournee` cela peut se faire avec la fonction `shuffle` de la bibliothèque `random` qui mélange aléatoirement les villes qui sont dans le tableau `tournee`, grâce à l'instruction  `shuffle(tournee)`, et ne retourne rien.\n",
    "\n",
    "- Utiliser cette fonction pour écrire un programme qui cherche une tournée plus courte à proposer au Père Noël. \n",
    "- Comment la solution s'améliore-t-elle en fonction de nombre de tentatives de mélange ? "
   ]
  },
  {
   "cell_type": "code",
   "execution_count": 15,
   "metadata": {
    "scrolled": true
   },
   "outputs": [
    {
     "name": "stdin",
     "output_type": "stream",
     "text": [
      "Entrez le nombre de tentatives : 1000\n"
     ]
    },
    {
     "name": "stdout",
     "output_type": "stream",
     "text": [
      "La plus courte tournée trouvée en 1000 tentative(s) avec un total de 3185.93 km est :\n",
      "- Strasbourg\n",
      "- Lyon\n",
      "- Clermont-Ferrand\n",
      "- Toulouse\n",
      "- Grenoble\n",
      "- Marseille\n",
      "- Bordeaux\n",
      "- Rennes\n",
      "- Paris\n",
      "- Lille\n"
     ]
    }
   ],
   "source": [
    "from random import*\n",
    "\n",
    "nb_tentatives = int(input(\"Entrez le nombre de tentatives :\")) # On demande à l'utilisateur de saisir un nombre de tentatives\n",
    "\n",
    "tournee = noms_villes(villes) # On travaille avec toutes les villes du tableau villes (c'est un exemple)\n",
    "\n",
    "plus_courte_tournee = tournee\n",
    "plus_courte_long = long_tour(villes, tournee)\n",
    "\n",
    "\n",
    "for i in range(nb_tentatives): # La boucle s'arrête dès que le nombre de tentatives maximum est atteint\n",
    "    shuffle(tournee) # On mélange aléatoirement les éléments du tableau plus\n",
    "    new_long = long_tour(villes, tournee) # On stocke la distance totale de la nouvelle tournée\n",
    "    \n",
    "    if new_long < plus_courte_long: # On test si la distance de la nouvelle tournée est plus petite que celle déjà enregistrée\n",
    "        plus_courte_tournee = tournee.copy() # Si oui, on enregistre une copie du tableau de la nouvelle tournée\n",
    "        plus_courte_long = new_long # Et on stocke la distance de la nouvelle tournée\n",
    "\n",
    "print(f\"La plus courte tournée trouvée en {nb_tentatives} tentative(s) avec un total de {plus_courte_long} km est :\")\n",
    "\n",
    "for ville in plus_courte_tournee: # On parcours le tableau plus_courte_tournee\n",
    "    print('-', ville) # On affiche chaque ville sur une ligne"
   ]
  },
  {
   "cell_type": "code",
   "execution_count": null,
   "metadata": {},
   "outputs": [],
   "source": [
    "'''\n",
    "Plus le nombre de tentatives est élevé, plus il y a de chance de trouver la \n",
    "plus courte tournée possible sur un tableau tournee donné.\n",
    "'''"
   ]
  },
  {
   "cell_type": "markdown",
   "metadata": {},
   "source": [
    "#### Question Bonus (facultative) : Visualisation de la tournée proposée au Père Noël \n",
    "\n",
    "Pour faciliter le travail du Père Noël, vous décidez de lui fournir une carte où est représentée la tournée sélectionnée. \n",
    "\n",
    "Pour cela, on peut (mais ce ne n'est qu'une suggestion) utiliser la bibliothèque [`folium`](https://python-visualization.github.io/folium/latest/getting_started.html). Vous pouvez également utiliser tout autre bibliothèque de votre choix.\n",
    "\n",
    "- Ecrire un programme permettant la visualisation de la tournée proposée au Père Noël"
   ]
  },
  {
   "cell_type": "code",
   "execution_count": 26,
   "metadata": {
    "scrolled": true
   },
   "outputs": [],
   "source": [
    "#-------------------------#\n",
    "#    Écrire le code ici   #\n",
    "#-------------------------#\n",
    "\n",
    "\n"
   ]
  }
 ],
 "metadata": {
  "kernelspec": {
   "display_name": "Python 3 (ipykernel)",
   "language": "python",
   "name": "python3"
  },
  "language_info": {
   "codemirror_mode": {
    "name": "ipython",
    "version": 3
   },
   "file_extension": ".py",
   "mimetype": "text/x-python",
   "name": "python",
   "nbconvert_exporter": "python",
   "pygments_lexer": "ipython3",
   "version": "3.8.17"
  },
  "latex_envs": {
   "LaTeX_envs_menu_present": true,
   "autoclose": false,
   "autocomplete": true,
   "bibliofile": "biblio.bib",
   "cite_by": "apalike",
   "current_citInitial": 1,
   "eqLabelWithNumbers": true,
   "eqNumInitial": 1,
   "hotkeys": {
    "equation": "Ctrl-E",
    "itemize": "Ctrl-I"
   },
   "labels_anchors": false,
   "latex_user_defs": false,
   "report_style_numbering": false,
   "user_envs_cfg": false
  }
 },
 "nbformat": 4,
 "nbformat_minor": 4
}
