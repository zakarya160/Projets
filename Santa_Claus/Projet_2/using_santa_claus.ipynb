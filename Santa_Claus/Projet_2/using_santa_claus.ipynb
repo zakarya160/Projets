{
 "cells": [
  {
   "cell_type": "code",
   "execution_count": null,
   "id": "adf2151a-bf9b-4076-ad96-aab63933a322",
   "metadata": {},
   "outputs": [],
   "source": [
    "def best_tour_from_closest_city(d_cities):\n",
    "    \"\"\"\n",
    "    Paramètre(s): un dictionnaire représentant les distances entre chaque ville\n",
    "    \n",
    "    Cette fonction renvoie un tableau contenant le meilleur tour possible en fonction de la somme des distances\n",
    "    \"\"\"\n",
    "    best_tour = None\n",
    "    best_distance = float('inf')  # Initialisé à l'infini\n",
    "\n",
    "    for ville in d_cities.keys():\n",
    "        tour = tour_from_closest_city(ville, d_cities)\n",
    "        distance = tour_length(tour, d_cities)\n",
    "\n",
    "        if distance < best_distance:\n",
    "            best_distance = distance\n",
    "            best_tour = tour\n",
    "\n",
    "    return best_tour"
   ]
  },
  {
   "cell_type": "markdown",
   "id": "0a286161-c060-4474-a1db-2ebc2b4f1199",
   "metadata": {},
   "source": [
    "Question 8 : Pour commencer, la complexité asymptotique de la fonction tour_length est linéaire et celle de la fonction tour_from_closest est quadratique. La complexité de la fonction best_tour_from_closest_city est donc de forme n³ + n² car on a une fonction de complexité n² et une autre de complexité n qui vont être exécutées dans une boucle qui se répète n fois. On a doit n * (n² + n) itérations soit n³ + n²."
   ]
  }
 ],
 "metadata": {
  "kernelspec": {
   "display_name": "Python 3 (ipykernel)",
   "language": "python",
   "name": "python3"
  },
  "language_info": {
   "codemirror_mode": {
    "name": "ipython",
    "version": 3
   },
   "file_extension": ".py",
   "mimetype": "text/x-python",
   "name": "python",
   "nbconvert_exporter": "python",
   "pygments_lexer": "ipython3",
   "version": "3.8.17"
  }
 },
 "nbformat": 4,
 "nbformat_minor": 5
}
